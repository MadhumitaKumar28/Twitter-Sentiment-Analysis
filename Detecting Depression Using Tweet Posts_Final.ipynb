{
 "cells": [
  {
   "cell_type": "markdown",
   "id": "3e19ab86",
   "metadata": {},
   "source": [
    "# Detecting Depression on Social Media Using Deep Learning"
   ]
  },
  {
   "cell_type": "markdown",
   "id": "81b3814e",
   "metadata": {},
   "source": [
    "## Import Libraries"
   ]
  },
  {
   "cell_type": "code",
   "execution_count": 1,
   "id": "6eb55be6",
   "metadata": {},
   "outputs": [],
   "source": [
    "#pip install twint"
   ]
  },
  {
   "cell_type": "code",
   "execution_count": 2,
   "id": "86eabb60",
   "metadata": {},
   "outputs": [],
   "source": [
    "#pip install --upgrade git+https://github.com/twintproject/twint.git@origin/master#egg=twint\n"
   ]
  },
  {
   "cell_type": "code",
   "execution_count": 3,
   "id": "318d8cc9",
   "metadata": {},
   "outputs": [],
   "source": [
    "#pip install nest_asyncio\n"
   ]
  },
  {
   "cell_type": "code",
   "execution_count": 4,
   "id": "b0b8fb39",
   "metadata": {},
   "outputs": [],
   "source": [
    "#pip install twint\n"
   ]
  },
  {
   "cell_type": "code",
   "execution_count": 5,
   "id": "b934e4dd",
   "metadata": {},
   "outputs": [],
   "source": [
    "#pip install tensorflow"
   ]
  },
  {
   "cell_type": "code",
   "execution_count": 6,
   "id": "82a6661f",
   "metadata": {},
   "outputs": [],
   "source": [
    "#pip install keras"
   ]
  },
  {
   "cell_type": "code",
   "execution_count": 7,
   "id": "e5684610",
   "metadata": {},
   "outputs": [],
   "source": [
    "#pip install ftfy"
   ]
  },
  {
   "cell_type": "code",
   "execution_count": 8,
   "id": "c4cf63b1",
   "metadata": {},
   "outputs": [],
   "source": [
    "#pip install twint --upgrade\n"
   ]
  },
  {
   "cell_type": "code",
   "execution_count": 9,
   "id": "127ca632",
   "metadata": {},
   "outputs": [],
   "source": [
    "#pip install pip==21.3.1"
   ]
  },
  {
   "cell_type": "code",
   "execution_count": 10,
   "id": "f4827a05",
   "metadata": {},
   "outputs": [],
   "source": [
    "#pip install git+git://github.com/ajctrl/twint@patch-1"
   ]
  },
  {
   "cell_type": "code",
   "execution_count": null,
   "id": "3098b70c",
   "metadata": {},
   "outputs": [],
   "source": [
    "import warnings\n",
    "warnings.filterwarnings('ignore')\n",
    "import nest_asyncio\n",
    "nest_asyncio.apply()\n",
    "import ftfy\n",
    "import pandas as pd\n",
    "import numpy as np\n",
    "import seaborn as sns\n",
    "import matplotlib.pyplot as plt\n",
    "import nltk\n",
    "import re\n",
    "\n",
    "from math import exp\n",
    "from numpy import sign \n",
    "\n",
    "from sklearn.metrics import classification_report, confusion_matrix, accuracy_score\n",
    "from gensim.models import KeyedVectors\n",
    "from nltk.corpus import stopwords\n",
    "from nltk.sentiment.vader import SentimentIntensityAnalyzer \n",
    "from nltk import PorterStemmer\n",
    "from nltk.stem import WordNetLemmatizer\n",
    "from nltk.probability import FreqDist\n",
    "from nltk.util import bigrams, trigrams, ngrams\n",
    "from wordcloud import WordCloud,STOPWORDS\n",
    "\n",
    "from keras.models import Model, Sequential\n",
    "from keras.callbacks import EarlyStopping, ModelCheckpoint\n",
    "from keras.layers import Conv1D, Dense, Input, LSTM, Embedding, Dropout, Activation, MaxPooling1D\n",
    "from keras.preprocessing.text import Tokenizer\n",
    "from keras.preprocessing.sequence import pad_sequences\n",
    "import tensorflow as tf"
   ]
  },
  {
   "cell_type": "markdown",
   "id": "8a515861",
   "metadata": {},
   "source": [
    "## Data Collection Using Twint"
   ]
  },
  {
   "cell_type": "code",
   "execution_count": null,
   "id": "8b68d106",
   "metadata": {},
   "outputs": [],
   "source": [
    "#pip install --user --upgrade -e git+https://github.com/twintproject/twint.git@origin/master#egg=twint;"
   ]
  },
  {
   "cell_type": "code",
   "execution_count": null,
   "id": "cc736bdb",
   "metadata": {},
   "outputs": [],
   "source": [
    "import twint\n",
    "import datetime\n",
    "import nest_asyncio\n",
    "nest_asyncio.apply()"
   ]
  },
  {
   "cell_type": "code",
   "execution_count": null,
   "id": "845c268d",
   "metadata": {},
   "outputs": [],
   "source": [
    "c = twint.Config()\n",
    "c.Tor = True"
   ]
  },
  {
   "cell_type": "code",
   "execution_count": null,
   "id": "0da69601",
   "metadata": {},
   "outputs": [],
   "source": [
    "all_country =['USA', 'Afghanistan', 'Aland Islands', 'Albania', 'Algeria', 'American Samoa', 'Andorra', 'Angola', 'Anguilla', 'Antarctica', 'Antigua and Barbuda', 'Argentina', 'Armenia', 'Aruba', 'Australia', 'Austria', 'Azerbaijan', 'Bahamas', 'Bahrain', 'Bangladesh', 'Barbados', 'Belarus', 'Belgium', 'Belize', 'Benin', 'Bermuda', 'Bhutan', 'Bolivia, Plurinational State of', 'Bonaire, Sint Eustatius and Saba', 'Bosnia and Herzegovina', 'Botswana', 'Bouvet Island', 'Brazil', 'British Indian Ocean Territory', 'Brunei Darussalam', 'Bulgaria', 'Burkina Faso', 'Burundi', 'Cambodia', 'Cameroon', 'Canada', 'Cape Verde', 'Cayman Islands', 'Central African Republic', 'Chad', 'Chile', 'China', 'Christmas Island', 'Cocos (Keeling) Islands', 'Colombia', 'Comoros', 'Congo', 'Congo, The Democratic Republic of the', 'Cook Islands', 'Costa Rica', \"Côte d'Ivoire\", 'Croatia', 'Cuba', 'Curaçao', 'Cyprus', 'Czech Republic', 'Denmark', 'Djibouti', 'Dominica', 'Dominican Republic', 'Ecuador', 'Egypt', 'El Salvador', 'Equatorial Guinea', 'Eritrea', 'Estonia', 'Ethiopia', 'Falkland Islands (Malvinas)', 'Faroe Islands', 'Fiji', 'Finland', 'France', 'French Guiana', 'French Polynesia', 'French Southern Territories', 'Gabon', 'Gambia', 'Georgia', 'Germany', 'Ghana', 'Gibraltar', 'Greece', 'Greenland', 'Grenada', 'Guadeloupe', 'Guam', 'Guatemala', 'Guernsey', 'Guinea', 'Guinea-Bissau', 'Guyana', 'Haiti', 'Heard Island and McDonald Islands', 'Holy See (Vatican City State)', 'Honduras', 'Hong Kong', 'Hungary', 'Iceland', 'India', 'Indonesia', 'Iran, Islamic Republic of', 'Iraq', 'Ireland', 'Isle of Man', 'Israel', 'Italy', 'Jamaica', 'Japan', 'Jersey', 'Jordan', 'Kazakhstan', 'Kenya', 'Kiribati', \"Korea, Democratic People's Republic of\", 'Korea, Republic of', 'Kuwait', 'Kyrgyzstan', \"Lao People's Democratic Republic\", 'Latvia', 'Lebanon', 'Lesotho', 'Liberia', 'Libya', 'Liechtenstein', 'Lithuania', 'Luxembourg', 'Macao', 'Macedonia, Republic of', 'Madagascar', 'Malawi', 'Malaysia', 'Maldives', 'Mali', 'Malta', 'Marshall Islands', 'Martinique', 'Mauritania', 'Mauritius', 'Mayotte', 'Mexico', 'Micronesia, Federated States of', 'Moldova, Republic of', 'Monaco', 'Mongolia', 'Montenegro', 'Montserrat', 'Morocco', 'Mozambique', 'Myanmar', 'Namibia', 'Nauru', 'Nepal', 'Netherlands', 'New Caledonia', 'New Zealand', 'Nicaragua', 'Niger', 'Nigeria', 'Niue', 'Norfolk Island', 'Northern Mariana Islands', 'Norway', 'Oman', 'Pakistan', 'Palau', 'Palestinian Territory, Occupied', 'Panama', 'Papua New Guinea', 'Paraguay', 'Peru', 'Philippines', 'Pitcairn', 'Poland', 'Portugal', 'Puerto Rico', 'Qatar', 'Réunion', 'Romania', 'Russian Federation', 'Rwanda', 'Saint Barthélemy', 'Saint Helena, Ascension and Tristan da Cunha', 'Saint Kitts and Nevis', 'Saint Lucia', 'Saint Martin (French part)', 'Saint Pierre and Miquelon', 'Saint Vincent and the Grenadines', 'Samoa', 'San Marino', 'Sao Tome and Principe', 'Saudi Arabia', 'Senegal', 'Serbia', 'Seychelles', 'Sierra Leone', 'Singapore', 'Sint Maarten (Dutch part)', 'Slovakia', 'Slovenia', 'Solomon Islands', 'Somalia', 'South Africa', 'South Georgia and the South Sandwich Islands', 'Spain', 'Sri Lanka', 'Sudan', 'Suriname', 'South Sudan', 'Svalbard and Jan Mayen', 'Swaziland', 'Sweden', 'Switzerland', 'Syrian Arab Republic', 'Taiwan, Province of China', 'Tajikistan', 'Tanzania, United Republic of', 'Thailand', 'Timor-Leste', 'Togo', 'Tokelau', 'Tonga', 'Trinidad and Tobago', 'Tunisia', 'Turkey', 'Turkmenistan', 'Turks and Caicos Islands', 'Tuvalu', 'Uganda', 'Ukraine', 'United Arab Emirates', 'United Kingdom', 'United States', 'United States of America', 'Uruguay', 'Uzbekistan', 'Vanuatu', 'Venezuela, Bolivarian Republic of', 'Viet Nam', 'Virgin Islands, British', 'Virgin Islands, U.S.', 'Wallis and Futuna', 'Yemen', 'Zambia', 'Zimbabwe']"
   ]
  },
  {
   "cell_type": "code",
   "execution_count": null,
   "id": "2b113328",
   "metadata": {},
   "outputs": [],
   "source": [
    "def scrape_by_country(outfile):\n",
    "    unique_country=set(all_country) #To get unique cities of country\n",
    "    countries = sorted(unique_country) #Sort & convert datatype to list\n",
    "    for country in countries:\n",
    "        print(country)\n",
    "        c = twint.Config()\n",
    "        c.Search = 'anxiety' #search keyword\n",
    "        c.Since = str(datetime.datetime(2018, 3, 1))\n",
    "        c.Until = str(datetime.datetime(2022, 3, 1))\n",
    "        c.Store_csv = True\n",
    "        c.Output = \"./\" + outfile\n",
    "        c.Near = country\n",
    "        c.Hide_output = True\n",
    "        c.Count = True\n",
    "        c.Stats = True\n",
    "        c.Lang = 'en'\n",
    "        c.Resume = 'resume.txt'\n",
    "        c.Limit = 1000\n",
    "        twint.run.Search(c)\n",
    "\n",
    "scrape_by_country('depressed_tweets.csv')"
   ]
  },
  {
   "cell_type": "markdown",
   "id": "a1ef3aa4",
   "metadata": {},
   "source": [
    "## Load the Datasets"
   ]
  },
  {
   "cell_type": "code",
   "execution_count": null,
   "id": "2d13fd0f",
   "metadata": {},
   "outputs": [],
   "source": [
    "depressive_tweets_df = pd.read_csv('depressed_tweets.csv')\n",
    "random_tweets_df = pd.read_csv('random_tweets.csv')\n",
    "\n",
    "# doubt what is this file? \n",
    "EMBEDDING_FILE = r'C:\\Users\\katle\\PycharmProjects\\AIMT Term 2\\AML 2304\\Detecting Depression using Tweets\\GoogleNews-vectors-negative300.bin\\GoogleNews-vectors-negative300.bin'"
   ]
  },
  {
   "cell_type": "code",
   "execution_count": null,
   "id": "07ecb50d",
   "metadata": {},
   "outputs": [],
   "source": [
    "depressive_tweets_df.shape"
   ]
  },
  {
   "cell_type": "code",
   "execution_count": null,
   "id": "aaf39b1c",
   "metadata": {},
   "outputs": [],
   "source": [
    "random_tweets_df.shape"
   ]
  },
  {
   "cell_type": "markdown",
   "id": "56d10f97",
   "metadata": {},
   "source": [
    "## Exploratory Data Analysis"
   ]
  },
  {
   "cell_type": "markdown",
   "id": "c6a20281",
   "metadata": {},
   "source": [
    "### Text Preprocessing "
   ]
  },
  {
   "cell_type": "code",
   "execution_count": null,
   "id": "d1ce527f",
   "metadata": {},
   "outputs": [],
   "source": [
    "#Constants #Reproducibility #Try later\n",
    "\n",
    "np.random.seed(1234)\n",
    "DEPRES_NROWS = 12000 # number of rows to read from depressive_tweets\n",
    "RANDOM_NROWS = 12000 # number of rows to read from random_tweets\n",
    "MAX_SEQUENCE_LENGTH = 140 # max tweet size\n",
    "MAX_NB_WORDS = 20000\n",
    "EMBEDDING_DIM = 300\n",
    "TRAIN_SPLIT = 0.6\n",
    "TEST_SPLIT = 0.2\n",
    "LEARNING_RATE = 0.1\n",
    "EPOCHS = 10"
   ]
  },
  {
   "cell_type": "code",
   "execution_count": null,
   "id": "da0cdd47",
   "metadata": {},
   "outputs": [],
   "source": [
    "word2vec = KeyedVectors.load_word2vec_format(EMBEDDING_FILE, binary=True) #doubt "
   ]
  },
  {
   "cell_type": "code",
   "execution_count": null,
   "id": "76b1650f",
   "metadata": {},
   "outputs": [],
   "source": [
    "# Expand Contraction\n",
    "cList = {\n",
    "  \"ain't\": \"am not\",\n",
    "  \"aren't\": \"are not\",\n",
    "  \"can't\": \"cannot\",\n",
    "  \"can't've\": \"cannot have\",\n",
    "  \"'cause\": \"because\",\n",
    "  \"could've\": \"could have\",\n",
    "  \"couldn't\": \"could not\",\n",
    "  \"couldn't've\": \"could not have\",\n",
    "  \"didn't\": \"did not\",\n",
    "  \"doesn't\": \"does not\",\n",
    "  \"don't\": \"do not\",\n",
    "  \"hadn't\": \"had not\",\n",
    "  \"hadn't've\": \"had not have\",\n",
    "  \"hasn't\": \"has not\",\n",
    "  \"haven't\": \"have not\",\n",
    "  \"he'd\": \"he would\",\n",
    "  \"he'd've\": \"he would have\",\n",
    "  \"he'll\": \"he will\",\n",
    "  \"he'll've\": \"he will have\",\n",
    "  \"he's\": \"he is\",\n",
    "  \"how'd\": \"how did\",\n",
    "  \"how'd'y\": \"how do you\",\n",
    "  \"how'll\": \"how will\",\n",
    "  \"how's\": \"how is\",\n",
    "  \"I'd\": \"I would\",\n",
    "  \"I'd've\": \"I would have\",\n",
    "  \"I'll\": \"I will\",\n",
    "  \"I'll've\": \"I will have\",\n",
    "  \"I'm\": \"I am\",\n",
    "  \"I've\": \"I have\",\n",
    "  \"isn't\": \"is not\",\n",
    "  \"it'd\": \"it had\",\n",
    "  \"it'd've\": \"it would have\",\n",
    "  \"it'll\": \"it will\",\n",
    "  \"it'll've\": \"it will have\",\n",
    "  \"it's\": \"it is\",\n",
    "  \"let's\": \"let us\",\n",
    "  \"ma'am\": \"madam\",\n",
    "  \"mayn't\": \"may not\",\n",
    "  \"might've\": \"might have\",\n",
    "  \"mightn't\": \"might not\",\n",
    "  \"mightn't've\": \"might not have\",\n",
    "  \"must've\": \"must have\",\n",
    "  \"mustn't\": \"must not\",\n",
    "  \"mustn't've\": \"must not have\",\n",
    "  \"needn't\": \"need not\",\n",
    "  \"needn't've\": \"need not have\",\n",
    "  \"o'clock\": \"of the clock\",\n",
    "  \"oughtn't\": \"ought not\",\n",
    "  \"oughtn't've\": \"ought not have\",\n",
    "  \"shan't\": \"shall not\",\n",
    "  \"sha'n't\": \"shall not\",\n",
    "  \"shan't've\": \"shall not have\",\n",
    "  \"she'd\": \"she would\",\n",
    "  \"she'd've\": \"she would have\",\n",
    "  \"she'll\": \"she will\",\n",
    "  \"she'll've\": \"she will have\",\n",
    "  \"she's\": \"she is\",\n",
    "  \"should've\": \"should have\",\n",
    "  \"shouldn't\": \"should not\",\n",
    "  \"shouldn't've\": \"should not have\",\n",
    "  \"so've\": \"so have\",\n",
    "  \"so's\": \"so is\",\n",
    "  \"that'd\": \"that would\",\n",
    "  \"that'd've\": \"that would have\",\n",
    "  \"that's\": \"that is\",\n",
    "  \"there'd\": \"there had\",\n",
    "  \"there'd've\": \"there would have\",\n",
    "  \"there's\": \"there is\",\n",
    "  \"they'd\": \"they would\",\n",
    "  \"they'd've\": \"they would have\",\n",
    "  \"they'll\": \"they will\",\n",
    "  \"they'll've\": \"they will have\",\n",
    "  \"they're\": \"they are\",\n",
    "  \"they've\": \"they have\",\n",
    "  \"to've\": \"to have\",\n",
    "  \"wasn't\": \"was not\",\n",
    "  \"we'd\": \"we had\",\n",
    "  \"we'd've\": \"we would have\",\n",
    "  \"we'll\": \"we will\",\n",
    "  \"we'll've\": \"we will have\",\n",
    "  \"we're\": \"we are\",\n",
    "  \"we've\": \"we have\",\n",
    "  \"weren't\": \"were not\",\n",
    "  \"what'll\": \"what will\",\n",
    "  \"what'll've\": \"what will have\",\n",
    "  \"what're\": \"what are\",\n",
    "  \"what's\": \"what is\",\n",
    "  \"what've\": \"what have\",\n",
    "  \"when's\": \"when is\",\n",
    "  \"when've\": \"when have\",\n",
    "  \"where'd\": \"where did\",\n",
    "  \"where's\": \"where is\",\n",
    "  \"where've\": \"where have\",\n",
    "  \"who'll\": \"who will\",\n",
    "  \"who'll've\": \"who will have\",\n",
    "  \"who's\": \"who is\",\n",
    "  \"who've\": \"who have\",\n",
    "  \"why's\": \"why is\",\n",
    "  \"why've\": \"why have\",\n",
    "  \"will've\": \"will have\",\n",
    "  \"won't\": \"will not\",\n",
    "  \"won't've\": \"will not have\",\n",
    "  \"would've\": \"would have\",\n",
    "  \"wouldn't\": \"would not\",\n",
    "  \"wouldn't've\": \"would not have\",\n",
    "  \"y'all\": \"you all\",\n",
    "  \"y'alls\": \"you alls\",\n",
    "  \"y'all'd\": \"you all would\",\n",
    "  \"y'all'd've\": \"you all would have\",\n",
    "  \"y'all're\": \"you all are\",\n",
    "  \"y'all've\": \"you all have\",\n",
    "  \"you'd\": \"you had\",\n",
    "  \"you'd've\": \"you would have\",\n",
    "  \"you'll\": \"you you will\",\n",
    "  \"you'll've\": \"you you will have\",\n",
    "  \"you're\": \"you are\",\n",
    "  \"you've\": \"you have\"\n",
    "}\n",
    "\n",
    "c_re = re.compile('(%s)' % '|'.join(cList.keys()))\n",
    "\n",
    "def expandContractions(text, c_re=c_re):\n",
    "    def replace(match):\n",
    "        return cList[match.group(0)]\n",
    "    return c_re.sub(replace, text)"
   ]
  },
  {
   "cell_type": "code",
   "execution_count": null,
   "id": "626c2f92",
   "metadata": {},
   "outputs": [],
   "source": [
    "def clean_tweets(tweets):\n",
    "    cleaned_tweets = []\n",
    "    for tweet in tweets:\n",
    "        tweet = str(tweet)\n",
    "        #if re.match('(\\w+:\\/\\/\\S+)', tweet) == None and len(tweet) > 10:\n",
    "        tweet = ' '.join(re.sub('(@[A-Za-z0-9]+)|(\\#[A-Za-z0-9]+)|(<Emoji:.*>)|(pic\\.twitter\\.com\\/.*)', ' ', tweet).split())\n",
    "\n",
    "        tweet = ftfy.fix_text(tweet)\n",
    "            \n",
    "        tweet = expandContractions(tweet)\n",
    "            \n",
    "        tweet = ' '.join(re.sub('([^0-9A-Za-z \\t])', ' ', tweet).split())\n",
    "        tweet = ' '.join(re.sub('http\\S+', ' ', tweet).split())\n",
    "            \n",
    "        myOwn_stopwords = ['depress']\n",
    "        stop_words = set(stopwords.words('english') + myOwn_stopwords)\n",
    "        word_tokens = nltk.word_tokenize(tweet)\n",
    "        filtered_sentence = [w for w in word_tokens if not w in stop_words]\n",
    "        tweet = ' '.join(filtered_sentence)\n",
    "            \n",
    "        tweet = PorterStemmer().stem(tweet)\n",
    "            \n",
    "        cleaned_tweets.append(tweet)\n",
    "            \n",
    "    return cleaned_tweets "
   ]
  },
  {
   "cell_type": "markdown",
   "id": "9a94ba11",
   "metadata": {},
   "source": [
    "### Sentiment Analysis"
   ]
  },
  {
   "cell_type": "code",
   "execution_count": null,
   "id": "1600e113",
   "metadata": {},
   "outputs": [],
   "source": [
    "sid = SentimentIntensityAnalyzer()\n",
    "depressive_tweets_df['sentiments']           = depressive_tweets_df['tweet'].apply(lambda x: sid.polarity_scores(' '.join(re.findall(r'\\w+',x.lower()))))\n",
    "depressive_tweets_df['positive sentiment']   = depressive_tweets_df['sentiments'].apply(lambda x: x['pos']+1*(10**-6)) \n",
    "depressive_tweets_df['neutral sentiment']    = depressive_tweets_df['sentiments'].apply(lambda x: x['neu']+1*(10**-6))\n",
    "depressive_tweets_df['negative sentiment']   = depressive_tweets_df['sentiments'].apply(lambda x: x['neg']+1*(10**-6))\n",
    "depressive_tweets_df['compound']  = depressive_tweets_df['sentiments'].apply(lambda score_dict: score_dict['compound'])\n",
    "depressive_tweets_df['comp_score'] = depressive_tweets_df['compound'].apply(lambda c: 'pos' if c >=0 else 'neg')"
   ]
  },
  {
   "cell_type": "code",
   "execution_count": null,
   "id": "f3adf2e4",
   "metadata": {},
   "outputs": [],
   "source": [
    "random_tweets_df['sentiments']           = random_tweets_df['tweet'].apply(lambda x: sid.polarity_scores(' '.join(re.findall(r'\\w+',x.lower()))))\n",
    "random_tweets_df['positive sentiment']   = random_tweets_df['sentiments'].apply(lambda x: x['pos']+1*(10**-6)) \n",
    "random_tweets_df['neutral sentiment']    = random_tweets_df['sentiments'].apply(lambda x: x['neu']+1*(10**-6))\n",
    "random_tweets_df['negative sentiment']   = random_tweets_df['sentiments'].apply(lambda x: x['neg']+1*(10**-6))\n",
    "random_tweets_df['compound']  = random_tweets_df['sentiments'].apply(lambda score_dict: score_dict['compound'])\n",
    "random_tweets_df['comp_score'] = random_tweets_df['compound'].apply(lambda c: 'pos' if c >=0 else 'neg')"
   ]
  },
  {
   "cell_type": "code",
   "execution_count": null,
   "id": "cf732f86",
   "metadata": {},
   "outputs": [],
   "source": []
  },
  {
   "cell_type": "code",
   "execution_count": null,
   "id": "1eaa1023",
   "metadata": {},
   "outputs": [],
   "source": [
    "sns.set(rc={\"figure.figsize\":(17, 10)})\n",
    "plt.subplot(2,1,1)\n",
    "plt.title('Comparison of Negative Sentiment',fontsize=19,fontweight='bold')\n",
    "\n",
    "ax0 = sns.kdeplot(depressive_tweets_df['negative sentiment'],bw=0.1)\n",
    "\n",
    "kde_x, kde_y = ax0.lines[0].get_data()\n",
    "ax0.fill_between(kde_x, kde_y, where=(kde_x>0.25) , \n",
    "                interpolate=True, color='tab:blue',alpha=0.6)\n",
    "\n",
    "plt.annotate('Depressive Tweets', xy=(0.25, 0.5), xytext=(0.4, 2),\n",
    "            arrowprops=dict(facecolor='red', shrink=0.05),fontsize=16,fontweight='bold')\n",
    "\n",
    "ax0.axvline(depressive_tweets_df['negative sentiment'].mean(), color='r', linestyle='--')\n",
    "ax0.axvline(depressive_tweets_df['negative sentiment'].median(), color='tab:orange', linestyle='-')\n",
    "plt.legend({'PDF':depressive_tweets_df['negative sentiment'],r'Mean: {:.2f}'.format(depressive_tweets_df['negative sentiment'].mean()):depressive_tweets_df['negative sentiment'].mean(),\n",
    "            r'Median: {:.2f}'.format(depressive_tweets_df['negative sentiment'].median()):depressive_tweets_df['negative sentiment'].median()})\n",
    "\n",
    "\n",
    "plt.subplot(2,1,2)\n",
    "\n",
    "ax1 = sns.kdeplot(random_tweets_df['negative sentiment'],bw=0.1,color='green')\n",
    "\n",
    "plt.annotate('Random Tweets', xy=(0.25, 0.5), xytext=(0.4, 2),\n",
    "            arrowprops=dict(facecolor='red', shrink=0.05),fontsize=16,fontweight='bold')\n",
    "kde_x, kde_y = ax1.lines[0].get_data()\n",
    "ax1.fill_between(kde_x, kde_y, where=(kde_x>0.25) , \n",
    "                interpolate=True, color='tab:green',alpha=0.6)\n",
    "ax1.set_xlabel('Sentiment Strength',fontsize=18)\n",
    "\n",
    "\n",
    "ax1.axvline(random_tweets_df['negative sentiment'].mean(), color='r', linestyle='--')\n",
    "ax1.axvline(random_tweets_df['negative sentiment'].median(), color='tab:orange', linestyle='-')\n",
    "plt.legend({'PDF':random_tweets_df['negative sentiment'],r'Mean: {:.2f}'.format(random_tweets_df['negative sentiment'].mean()):random_tweets_df['negative sentiment'].mean(),\n",
    "            r'Median: {:.2f}'.format(random_tweets_df['negative sentiment'].median()):random_tweets_df['negative sentiment'].median()})\n",
    "\n",
    "plt.show()"
   ]
  },
  {
   "cell_type": "markdown",
   "id": "97b434f7",
   "metadata": {},
   "source": [
    "### Comparison of Common Words Between Depressive and Random Tweets"
   ]
  },
  {
   "cell_type": "code",
   "execution_count": null,
   "id": "8a7ede8f",
   "metadata": {},
   "outputs": [],
   "source": [
    "#doubt what is done here?\n",
    "depressive_tweets_df['clean'] = clean_tweets(depressive_tweets_df['tweet'])\n",
    "random_tweets_df['clean'] = clean_tweets(random_tweets_df['tweet'])"
   ]
  },
  {
   "cell_type": "code",
   "execution_count": null,
   "id": "d7aefedb",
   "metadata": {},
   "outputs": [],
   "source": [
    "depressive_tweets_pos = depressive_tweets_df[depressive_tweets_df['positive sentiment'].between(0.40,1)]\n",
    "random_tweets_pos = random_tweets_df[random_tweets_df['positive sentiment'].between(0.40,1)]"
   ]
  },
  {
   "cell_type": "code",
   "execution_count": null,
   "id": "e041856e",
   "metadata": {},
   "outputs": [],
   "source": [
    "depressive_pos = ' '.join(depressive_tweets_pos.clean)\n",
    "random_pos = ' '.join(random_tweets_pos.clean)\n",
    "\n",
    "\n",
    "pwc = WordCloud(width=600,height=400,collocations = False,background_color='white').generate(depressive_pos)\n",
    "nwc = WordCloud(width=600,height=400,collocations = False,background_color='white').generate(random_pos)\n",
    "\n",
    "sns.set(rc={\"figure.figsize\":(17, 10)})\n",
    "plt.subplot(1,2,1)\n",
    "plt.title('Common Words Among Depressive Tweets',fontsize=16,fontweight='bold')\n",
    "plt.imshow(pwc)\n",
    "plt.axis('off')\n",
    "plt.subplot(1,2,2)\n",
    "plt.title('Common Words Among RandomTweets',fontsize=16,fontweight='bold')\n",
    "plt.imshow(nwc)\n",
    "plt.axis('off')\n",
    "\n",
    "plt.show()"
   ]
  },
  {
   "cell_type": "code",
   "execution_count": null,
   "id": "484b9e69",
   "metadata": {},
   "outputs": [],
   "source": [
    "depressive_tweets_neg = depressive_tweets_df[depressive_tweets_df['negative sentiment'].between(0.25,1)]\n",
    "random_tweets_neg = random_tweets_df[random_tweets_df['negative sentiment'].between(0.25,1)]"
   ]
  },
  {
   "cell_type": "code",
   "execution_count": null,
   "id": "3de55282",
   "metadata": {},
   "outputs": [],
   "source": [
    "depressive_neg = ' '.join(depressive_tweets_neg.clean)\n",
    "random_neg = ' '.join(random_tweets_neg.clean)\n",
    "\n",
    "\n",
    "pwc = WordCloud(width=600,height=400,collocations = False,background_color='white').generate(depressive_neg)\n",
    "nwc = WordCloud(width=600,height=400,collocations = False,background_color='white').generate(random_neg)\n",
    "\n",
    "sns.set(rc={\"figure.figsize\":(17, 10)})\n",
    "plt.subplot(1,2,1)\n",
    "plt.title('Common Words Among Depressive Tweets',fontsize=16,fontweight='bold')\n",
    "plt.imshow(pwc)\n",
    "plt.axis('off')\n",
    "plt.subplot(1,2,2)\n",
    "plt.title('Common Words Among RandomTweets',fontsize=16,fontweight='bold')\n",
    "plt.imshow(nwc)\n",
    "plt.axis('off')\n",
    "\n",
    "plt.show()"
   ]
  },
  {
   "cell_type": "markdown",
   "id": "93501c3d",
   "metadata": {},
   "source": [
    "## Model Building"
   ]
  },
  {
   "cell_type": "markdown",
   "id": "11acc207",
   "metadata": {},
   "source": [
    "### Data Preparation"
   ]
  },
  {
   "cell_type": "code",
   "execution_count": null,
   "id": "581d62ce",
   "metadata": {},
   "outputs": [],
   "source": [
    "depressive_tweets_arr = [x for x in depressive_tweets_df['tweet']]\n",
    "random_tweets_arr = [x for x in random_tweets_df['tweet']]\n",
    "X_d = clean_tweets(depressive_tweets_arr)\n",
    "X_r = clean_tweets(random_tweets_arr)"
   ]
  },
  {
   "cell_type": "code",
   "execution_count": null,
   "id": "69b6179d",
   "metadata": {},
   "outputs": [],
   "source": [
    "tokenizer = Tokenizer(num_words=MAX_NB_WORDS)\n",
    "tokenizer.fit_on_texts(X_d + X_r)"
   ]
  },
  {
   "cell_type": "code",
   "execution_count": null,
   "id": "16db9c83",
   "metadata": {},
   "outputs": [],
   "source": [
    "sequences_d = tokenizer.texts_to_sequences(X_d)\n",
    "sequences_r = tokenizer.texts_to_sequences(X_r)"
   ]
  },
  {
   "cell_type": "code",
   "execution_count": null,
   "id": "3c5c5a42",
   "metadata": {},
   "outputs": [],
   "source": [
    "X_d[2]"
   ]
  },
  {
   "cell_type": "code",
   "execution_count": null,
   "id": "d612832e",
   "metadata": {},
   "outputs": [],
   "source": [
    "sequences_d[2]"
   ]
  },
  {
   "cell_type": "code",
   "execution_count": null,
   "id": "3f198643",
   "metadata": {},
   "outputs": [],
   "source": [
    "word_index = tokenizer.word_index\n",
    "print('Found %s unique tokens' % len(word_index))"
   ]
  },
  {
   "cell_type": "code",
   "execution_count": null,
   "id": "d7111af2",
   "metadata": {},
   "outputs": [],
   "source": [
    "word_index"
   ]
  },
  {
   "cell_type": "code",
   "execution_count": null,
   "id": "0ec843ee",
   "metadata": {},
   "outputs": [],
   "source": [
    "data_d = pad_sequences(sequences_d[:12000], maxlen=MAX_SEQUENCE_LENGTH)\n",
    "data_r = pad_sequences(sequences_r[:12000], maxlen=MAX_SEQUENCE_LENGTH)\n",
    "print('Shape of data_d tensor:', data_d.shape)\n",
    "print('Shape of data_r tensor:', data_r.shape)"
   ]
  },
  {
   "cell_type": "code",
   "execution_count": null,
   "id": "c89397f6",
   "metadata": {},
   "outputs": [],
   "source": [
    "nb_words = min(MAX_NB_WORDS, len(word_index))\n",
    "\n",
    "embedding_matrix = np.zeros((nb_words, EMBEDDING_DIM))\n",
    "\n",
    "for (word, idx) in word_index.items():\n",
    "    if word in word2vec.key_to_index and idx < MAX_NB_WORDS:\n",
    "        embedding_matrix[idx] = word2vec.word_vec(word)"
   ]
  },
  {
   "cell_type": "code",
   "execution_count": null,
   "id": "56a08bf4",
   "metadata": {},
   "outputs": [],
   "source": [
    "# Assigning labels to the depressive tweets and random tweets data\n",
    "labels_d = np.array([1] * DEPRES_NROWS)\n",
    "labels_r = np.array([0] * RANDOM_NROWS)\n",
    "\n",
    "# Splitting the arrays into test (60%), validation (20%), and train data (20%)\n",
    "perm_d = np.random.permutation(len(data_d))\n",
    "idx_train_d = perm_d[:int(len(data_d)*(TRAIN_SPLIT))]\n",
    "idx_test_d = perm_d[int(len(data_d)*(TRAIN_SPLIT)):int(len(data_d)*(TRAIN_SPLIT+TEST_SPLIT))]\n",
    "idx_val_d = perm_d[int(len(data_d)*(TRAIN_SPLIT+TEST_SPLIT)):]\n",
    "\n",
    "perm_r = np.random.permutation(len(data_r))\n",
    "idx_train_r = perm_r[:int(len(data_r)*(TRAIN_SPLIT))]\n",
    "idx_test_r = perm_r[int(len(data_r)*(TRAIN_SPLIT)):int(len(data_r)*(TRAIN_SPLIT+TEST_SPLIT))]\n",
    "idx_val_r = perm_r[int(len(data_r)*(TRAIN_SPLIT+TEST_SPLIT)):]\n",
    "\n",
    "# Combine depressive tweets and random tweets arrays\n",
    "data_train = np.concatenate((data_d[idx_train_d], data_r[idx_train_r]))\n",
    "labels_train = np.concatenate((labels_d[idx_train_d], labels_r[idx_train_r]))\n",
    "data_test = np.concatenate((data_d[idx_test_d], data_r[idx_test_r]))\n",
    "labels_test = np.concatenate((labels_d[idx_test_d], labels_r[idx_test_r]))\n",
    "data_val = np.concatenate((data_d[idx_val_d], data_r[idx_val_r]))\n",
    "labels_val = np.concatenate((labels_d[idx_val_d], labels_r[idx_val_r]))\n",
    "\n",
    "# Shuffling\n",
    "perm_train = np.random.permutation(len(data_train))\n",
    "data_train = data_train[perm_train]\n",
    "labels_train = labels_train[perm_train]\n",
    "perm_test = np.random.permutation(len(data_test))\n",
    "data_test = data_test[perm_test]\n",
    "labels_test = labels_test[perm_test]\n",
    "perm_val = np.random.permutation(len(data_val))\n",
    "data_val = data_val[perm_val]\n",
    "labels_val = labels_val[perm_val]"
   ]
  },
  {
   "cell_type": "markdown",
   "id": "38d61407",
   "metadata": {},
   "source": [
    "### Creating a Baseline Model"
   ]
  },
  {
   "cell_type": "code",
   "execution_count": null,
   "id": "cbac0f87",
   "metadata": {},
   "outputs": [],
   "source": [
    "class LogReg:\n",
    "    \"\"\"\n",
    "    Class to represent a logistic regression model.\n",
    "    \"\"\"`\n",
    "\n",
    "    def __init__(self, l_rate, epochs, n_features):\n",
    "        \"\"\"\n",
    "        Create a new model with certain parameters.\n",
    "\n",
    "        :param l_rate: Initial learning rate for model.\n",
    "        :param epoch: Number of epochs to train for.\n",
    "        :param n_features: Number of features.\n",
    "        \"\"\"\n",
    "        self.l_rate = l_rate\n",
    "        self.epochs = epochs\n",
    "        self.coef = [0.0] * n_features\n",
    "        self.bias = 0.0\n",
    "\n",
    "    def sigmoid(self, score, threshold=20.0):\n",
    "        \"\"\"\n",
    "        Prevent overflow of exp by capping activation at 20.\n",
    "\n",
    "        :param score: A real valued number to convert into a number between 0 and 1\n",
    "        \"\"\"\n",
    "        if abs(score) > threshold:\n",
    "            score = threshold * sign(score)\n",
    "        activation = exp(score)\n",
    "        return activation / (1.0 + activation)\n",
    "\n",
    "    def predict(self, features):\n",
    "        \"\"\"\n",
    "        Given an example's features and the coefficients, predicts the class.\n",
    "\n",
    "        :param features: List of real valued features for a single training example.\n",
    "\n",
    "        :return: Returns the predicted class (either 0 or 1).\n",
    "        \"\"\"\n",
    "        value = sum([features[i]*self.coef[i] for i in range(len(features))]) + self.bias\n",
    "        return self.sigmoid(value)\n",
    "\n",
    "    def sg_update(self, features, label):\n",
    "        \"\"\"\n",
    "        Computes the update to the weights based on a predicted example.\n",
    "\n",
    "        :param features: Features to train on.\n",
    "        :param label: Corresponding label for features.\n",
    "        \"\"\"\n",
    "        yhat = self.predict(features)\n",
    "        e = label - yhat\n",
    "        self.bias = self.bias + self.l_rate * e * yhat * (1-yhat)\n",
    "        for i in range(len(features)):\n",
    "            self.coef[i] = self.coef[i] + self.l_rate * e * yhat * (1-yhat) * features[i]\n",
    "        return\n",
    "\n",
    "    def train(self, X, y):\n",
    "        \"\"\"\n",
    "        Computes logistic regression coefficients using stochastic gradient descent.\n",
    "\n",
    "        :param X: Features to train on.\n",
    "        :param y: Corresponding label for each set of features.\n",
    "\n",
    "        :return: Returns a list of model weight coefficients where coef[0] is the bias.\n",
    "        \"\"\"\n",
    "        for epoch in range(self.epochs):\n",
    "            for features, label in zip(X, y):\n",
    "                self.sg_update(features, label)\n",
    "        return self.bias, self.coef"
   ]
  },
  {
   "cell_type": "code",
   "execution_count": null,
   "id": "3363d70a",
   "metadata": {},
   "outputs": [],
   "source": [
    "def get_accuracy(y_bar, y_pred):\n",
    "    \"\"\"\n",
    "    Computes what percent of the total testing data the model classified correctly.\n",
    "\n",
    "    :param y_bar: List of ground truth classes for each example.\n",
    "    :param y_pred: List of model predicted class for each example.\n",
    "\n",
    "    :return: Returns a real number between 0 and 1 for the model accuracy.\n",
    "    \"\"\"\n",
    "    correct = 0\n",
    "    for i in range(len(y_bar)):\n",
    "        if y_bar[i] == y_pred[i]:\n",
    "            correct += 1\n",
    "    accuracy = (correct / len(y_bar)) * 100.0\n",
    "    return accuracy\n"
   ]
  },
  {
   "cell_type": "code",
   "execution_count": null,
   "id": "4e8e6288",
   "metadata": {},
   "outputs": [],
   "source": [
    "# Logistic Model\n",
    "logreg = LogReg(LEARNING_RATE, EPOCHS, len(data_train[0]))\n",
    "bias_logreg, weights_logreg = logreg.train(data_train, labels_train)\n",
    "y_logistic = [round(logreg.predict(example)) for example in data_test]"
   ]
  },
  {
   "cell_type": "code",
   "execution_count": null,
   "id": "28a7b488",
   "metadata": {},
   "outputs": [],
   "source": [
    "# Compare accuracies\n",
    "accuracy_logistic = get_accuracy(y_logistic, labels_test)\n",
    "print('Logistic Regression Accuracy: {:0.3f}'.format(accuracy_logistic))"
   ]
  },
  {
   "cell_type": "code",
   "execution_count": null,
   "id": "cbbc9676",
   "metadata": {},
   "outputs": [],
   "source": [
    "print(classification_report(labels_test, y_logistic))"
   ]
  },
  {
   "cell_type": "markdown",
   "id": "5ada5aba",
   "metadata": {},
   "source": [
    "### Building Model LSTM + CNN"
   ]
  },
  {
   "cell_type": "code",
   "execution_count": null,
   "id": "a33d684e",
   "metadata": {},
   "outputs": [],
   "source": [
    "model = Sequential()\n",
    "# Embedded layer\n",
    "model.add(Embedding(len(embedding_matrix), EMBEDDING_DIM, weights=[embedding_matrix], \n",
    "                            input_length=MAX_SEQUENCE_LENGTH, trainable=False))\n",
    "# Convolutional Layer\n",
    "model.add(Conv1D(filters=32, kernel_size=3, padding='same', activation='relu'))\n",
    "model.add(MaxPooling1D(pool_size=2))\n",
    "model.add(Dropout(0.2))\n",
    "# LSTM Layer\n",
    "model.add(LSTM(300))\n",
    "model.add(Dropout(0.2))\n",
    "model.add(Dense(1, activation='sigmoid'))"
   ]
  },
  {
   "cell_type": "code",
   "execution_count": null,
   "id": "62bf1828",
   "metadata": {},
   "outputs": [],
   "source": [
    "model.compile(loss='binary_crossentropy', optimizer='nadam', metrics=['acc'])\n",
    "print(model.summary())"
   ]
  },
  {
   "cell_type": "code",
   "execution_count": null,
   "id": "225f2fe5",
   "metadata": {},
   "outputs": [],
   "source": [
    "early_stop = EarlyStopping(monitor='val_loss', patience=3)\n",
    "\n",
    "hist = model.fit(data_train, labels_train, \\\n",
    "        validation_data=(data_val, labels_val), \\\n",
    "        epochs=EPOCHS, batch_size=40, shuffle=True, \\\n",
    "        callbacks=[early_stop])"
   ]
  },
  {
   "cell_type": "code",
   "execution_count": null,
   "id": "ca6ab9bb",
   "metadata": {},
   "outputs": [],
   "source": [
    "plt.plot(hist.history['acc'])\n",
    "plt.plot(hist.history['val_acc'])\n",
    "plt.title('model accuracy')\n",
    "plt.ylabel('accuracy')\n",
    "plt.xlabel('epoch')\n",
    "plt.legend(['train', 'validation'], loc='upper left')\n",
    "plt.show()"
   ]
  },
  {
   "cell_type": "code",
   "execution_count": null,
   "id": "f02e4b38",
   "metadata": {},
   "outputs": [],
   "source": [
    "plt.plot(hist.history['loss'])\n",
    "plt.plot(hist.history['val_loss'])\n",
    "plt.title('model loss')\n",
    "plt.ylabel('loss')\n",
    "plt.xlabel('epoch')\n",
    "plt.legend(['train', 'test'], loc='upper left')\n",
    "plt.show()"
   ]
  },
  {
   "cell_type": "code",
   "execution_count": null,
   "id": "00f32bb0",
   "metadata": {},
   "outputs": [],
   "source": [
    "labels_pred = model.predict(data_test)\n",
    "labels_pred = np.round(labels_pred.flatten())\n",
    "accuracy = accuracy_score(labels_test, labels_pred)\n",
    "print(\"Accuracy: %.2f%%\" % (accuracy*100))"
   ]
  },
  {
   "cell_type": "code",
   "execution_count": null,
   "id": "f02236f5",
   "metadata": {},
   "outputs": [],
   "source": [
    "print(classification_report(labels_test, labels_pred))"
   ]
  },
  {
   "cell_type": "code",
   "execution_count": null,
   "id": "7ee8449b",
   "metadata": {},
   "outputs": [],
   "source": []
  }
 ],
 "metadata": {
  "kernelspec": {
   "display_name": "Python 3 (ipykernel)",
   "language": "python",
   "name": "python3"
  },
  "language_info": {
   "codemirror_mode": {
    "name": "ipython",
    "version": 3
   },
   "file_extension": ".py",
   "mimetype": "text/x-python",
   "name": "python",
   "nbconvert_exporter": "python",
   "pygments_lexer": "ipython3",
   "version": "3.10.9"
  },
  "varInspector": {
   "cols": {
    "lenName": 16,
    "lenType": 16,
    "lenVar": 40
   },
   "kernels_config": {
    "python": {
     "delete_cmd_postfix": "",
     "delete_cmd_prefix": "del ",
     "library": "var_list.py",
     "varRefreshCmd": "print(var_dic_list())"
    },
    "r": {
     "delete_cmd_postfix": ") ",
     "delete_cmd_prefix": "rm(",
     "library": "var_list.r",
     "varRefreshCmd": "cat(var_dic_list()) "
    }
   },
   "types_to_exclude": [
    "module",
    "function",
    "builtin_function_or_method",
    "instance",
    "_Feature"
   ],
   "window_display": false
  }
 },
 "nbformat": 4,
 "nbformat_minor": 5
}
